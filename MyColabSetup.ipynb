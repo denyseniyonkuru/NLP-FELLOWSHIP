{
  "nbformat": 4,
  "nbformat_minor": 0,
  "metadata": {
    "colab": {
      "provenance": [],
      "authorship_tag": "ABX9TyPPg6FAXSRfhvLPwiLVm+Ex",
      "include_colab_link": true
    },
    "kernelspec": {
      "name": "python3",
      "display_name": "Python 3"
    },
    "language_info": {
      "name": "python"
    },
    "accelerator": "GPU"
  },
  "cells": [
    {
      "cell_type": "markdown",
      "metadata": {
        "id": "view-in-github",
        "colab_type": "text"
      },
      "source": [
        "<a href=\"https://colab.research.google.com/github/denyseniyonkuru/NLP-FELLOWSHIP/blob/main/MyColabSetup.ipynb\" target=\"_parent\"><img src=\"https://colab.research.google.com/assets/colab-badge.svg\" alt=\"Open In Colab\"/></a>"
      ]
    },
    {
      "cell_type": "code",
      "execution_count": null,
      "metadata": {
        "id": "5asdCwIPVyMo"
      },
      "outputs": [],
      "source": [
        "import regex"
      ]
    },
    {
      "cell_type": "code",
      "source": [
        "import time\n",
        "print(time.time())"
      ],
      "metadata": {
        "colab": {
          "base_uri": "https://localhost:8080/"
        },
        "id": "4D7QXkdhg6Gb",
        "outputId": "5bb21ef1-c166-4c32-e193-7b4e0fea9d85"
      },
      "execution_count": null,
      "outputs": [
        {
          "output_type": "stream",
          "name": "stdout",
          "text": [
            "1666003001.7250245\n"
          ]
        }
      ]
    }
  ]
}