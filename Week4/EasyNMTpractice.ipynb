{
  "nbformat": 4,
  "nbformat_minor": 0,
  "metadata": {
    "colab": {
      "provenance": [],
      "collapsed_sections": [],
      "authorship_tag": "ABX9TyNs3InGZUfdIJYQWQJp/E69",
      "include_colab_link": true
    },
    "kernelspec": {
      "name": "python3",
      "display_name": "Python 3"
    },
    "language_info": {
      "name": "python"
    },
    "accelerator": "GPU",
    "gpuClass": "standard"
  },
  "cells": [
    {
      "cell_type": "markdown",
      "metadata": {
        "id": "view-in-github",
        "colab_type": "text"
      },
      "source": [
        "<a href=\"https://colab.research.google.com/github/denyseniyonkuru/NLP-FELLOWSHIP/blob/main/Week4/EasyNMTpractice.ipynb\" target=\"_parent\"><img src=\"https://colab.research.google.com/assets/colab-badge.svg\" alt=\"Open In Colab\"/></a>"
      ]
    },
    {
      "cell_type": "code",
      "execution_count": null,
      "metadata": {
        "id": "h_jsGkLxKms0"
      },
      "outputs": [],
      "source": [
        "# package that help in translation language\n",
        "pip install -U easynmt"
      ]
    },
    {
      "cell_type": "code",
      "source": [
        "from easynmt import  EasyNMT"
      ],
      "metadata": {
        "id": "TNngEKz4MDMh"
      },
      "execution_count": 3,
      "outputs": []
    },
    {
      "cell_type": "code",
      "source": [
        "model = EasyNMT('opus-mt')"
      ],
      "metadata": {
        "colab": {
          "base_uri": "https://localhost:8080/"
        },
        "id": "LCIf9BsOMOuy",
        "outputId": "09ffb48e-6f05-4826-d944-51157ea96f8f"
      },
      "execution_count": 4,
      "outputs": [
        {
          "output_type": "stream",
          "name": "stderr",
          "text": [
            "11.9kB [00:00, 17.1MB/s]                   \n"
          ]
        }
      ]
    },
    {
      "cell_type": "code",
      "source": [
        "sentences = [\n",
        "    \n",
        "    'Jesus is alive!',\n",
        "    'Hands on projects is our priority',\n",
        "    'I do not have anything ',\n",
        "    'It is rainy day',\n",
        "    \"'It is what it is!' : Legend Denyse once said.\"\n",
        "]"
      ],
      "metadata": {
        "id": "jC4pcIY1NA2v"
      },
      "execution_count": 61,
      "outputs": []
    },
    {
      "cell_type": "code",
      "source": [
        "# using translate function and parse the list of sentence and the language code\n",
        "translations_fr = model.translate(sentences,target_lang='fr')\n",
        "translations_sw = model.translate(sentences,target_lang='sw')"
      ],
      "metadata": {
        "id": "q-72aQZgOV15"
      },
      "execution_count": null,
      "outputs": []
    },
    {
      "cell_type": "code",
      "source": [
        "#translate in france language\n",
        "translations_fr"
      ],
      "metadata": {
        "colab": {
          "base_uri": "https://localhost:8080/"
        },
        "id": "118rmU20Osu-",
        "outputId": "e050df3b-a1cd-4b36-8099-7fd27da45c5a"
      },
      "execution_count": 14,
      "outputs": [
        {
          "output_type": "execute_result",
          "data": {
            "text/plain": [
              "['Jésus est vivant!',\n",
              " 'Mains sur les projets est notre priorité',\n",
              " \"Je n'ai rien. \",\n",
              " \"C'est le jour des pluies.\",\n",
              " \"C'est ce que c'est! : Légende Denyse a dit une fois\"]"
            ]
          },
          "metadata": {},
          "execution_count": 14
        }
      ]
    },
    {
      "cell_type": "code",
      "source": [
        "# translate in swahili language\n",
        "translations_sw"
      ],
      "metadata": {
        "colab": {
          "base_uri": "https://localhost:8080/"
        },
        "id": "wgFs-MytQZoH",
        "outputId": "ea707587-db9e-48fa-9d34-664c7a68c4c1"
      },
      "execution_count": 16,
      "outputs": [
        {
          "output_type": "execute_result",
          "data": {
            "text/plain": [
              "['Yesu yu hai!',\n",
              " 'Ni jambo la kwanza kabisa kwetu kuwa na mikono kwenye miradi',\n",
              " 'Sina chochote ',\n",
              " 'Ni siku ya mvua',\n",
              " 'Ndio hivyo! : Hekaya Ya Denyse ilisema wakati mmoja']"
            ]
          },
          "metadata": {},
          "execution_count": 16
        }
      ]
    },
    {
      "cell_type": "code",
      "source": [
        "import json"
      ],
      "metadata": {
        "id": "nweN3-GPTSZf"
      },
      "execution_count": 17,
      "outputs": []
    },
    {
      "cell_type": "code",
      "source": [
        "# we create a file and put a list of language code within json here we open it list \n",
        "with open('/content/lang.json','r+') as file_lang:\n",
        "  content = file_lang.read() \n"
      ],
      "metadata": {
        "id": "9BFou_tETrf1"
      },
      "execution_count": 36,
      "outputs": []
    },
    {
      "cell_type": "code",
      "source": [
        "languages_json = json.loads(content)"
      ],
      "metadata": {
        "id": "5ECvTNNmUKo5"
      },
      "execution_count": 37,
      "outputs": []
    },
    {
      "cell_type": "code",
      "source": [
        "languages_json[1]"
      ],
      "metadata": {
        "colab": {
          "base_uri": "https://localhost:8080/"
        },
        "id": "EBFPbb_QUg-_",
        "outputId": "3f8b6845-5462-4321-9b18-0a4233a213e1"
      },
      "execution_count": 38,
      "outputs": [
        {
          "output_type": "execute_result",
          "data": {
            "text/plain": [
              "{'code': 'aa', 'name': 'Afar'}"
            ]
          },
          "metadata": {},
          "execution_count": 38
        }
      ]
    },
    {
      "cell_type": "code",
      "source": [
        "languages_json[0]['code']"
      ],
      "metadata": {
        "colab": {
          "base_uri": "https://localhost:8080/",
          "height": 36
        },
        "id": "5zL7DtwzWFH3",
        "outputId": "dabd65a9-149c-437f-821d-0ef2950beb72"
      },
      "execution_count": 39,
      "outputs": [
        {
          "output_type": "execute_result",
          "data": {
            "text/plain": [
              "'ab'"
            ],
            "application/vnd.google.colaboratory.intrinsic+json": {
              "type": "string"
            }
          },
          "metadata": {},
          "execution_count": 39
        }
      ]
    },
    {
      "cell_type": "code",
      "source": [
        "\n",
        "import pandas as pd"
      ],
      "metadata": {
        "id": "PlsmrFN0bSIg"
      },
      "execution_count": 45,
      "outputs": []
    },
    {
      "cell_type": "code",
      "source": [
        "df = pd.DataFrame()"
      ],
      "metadata": {
        "id": "OwOh4ipmbXXi"
      },
      "execution_count": 47,
      "outputs": []
    },
    {
      "cell_type": "code",
      "source": [
        "rw_sentences = [\n",
        "    \n",
        "    'Umwana Murizi ntakurwa urutozi',\n",
        "    'serupyipyinyurimpyisi yonsonyoye',\n",
        "    'sakwe!sakwe;sogokuru aryoha aboze',\n",
        "    'amategeko yabanebwe',\n",
        "]"
      ],
      "metadata": {
        "id": "EPf1EBRrbsU6"
      },
      "execution_count": 77,
      "outputs": []
    },
    {
      "cell_type": "code",
      "source": [
        "df['kinyarwanda'] = rw_sentences[:2]\n",
        "df['english'] = sentences[:2]"
      ],
      "metadata": {
        "id": "WQdGGzzBclG4"
      },
      "execution_count": 79,
      "outputs": []
    },
    {
      "cell_type": "code",
      "source": [
        "df"
      ],
      "metadata": {
        "colab": {
          "base_uri": "https://localhost:8080/",
          "height": 330
        },
        "id": "02i8jxOaq0e_",
        "outputId": "6b44740c-0681-4f33-e6c9-7112046a7709"
      },
      "execution_count": 74,
      "outputs": [
        {
          "output_type": "execute_result",
          "data": {
            "text/plain": [
              "                             english  \\\n",
              "0                    Jesus is alive!   \n",
              "1  Hands on projects is our priority   \n",
              "\n",
              "                                                  rw  \\\n",
              "0                                    Yesu ni muzima!   \n",
              "1  Ibintu tugomba gushyira mu mwanya wa mbere ni ...   \n",
              "\n",
              "                                                  kg  \\\n",
              "0                              Yezu kele na luzingu!   \n",
              "1  Mbongo ya kisalu kele mambu ya kuluta mfunu yi...   \n",
              "\n",
              "                                                  kj  \\\n",
              "0                        Jesus okwa li e na omwenyo!   \n",
              "1  Ohai tu kwafele tu kale twa pitifa komesho oil...   \n",
              "\n",
              "                                                  lg  \\\n",
              "0                                       Yesu mulamu!   \n",
              "1  Okwenyigira mu mirimu gy'awaka kye kintu kye t...   \n",
              "\n",
              "                                                  ln  \\\n",
              "0                               Yesu azali na bomoi!   \n",
              "1  Misala ya mabɔkɔ ezali likambo ya liboso oyo t...   \n",
              "\n",
              "                                                  lu  \\\n",
              "0                                       Yesu i mūmi!   \n",
              "1  Kutangidija bintu bya kutangidija kumeso i kwi...   \n",
              "\n",
              "                                     gv  \\\n",
              "0                   Dooyrt Yeesey r'ee,   \n",
              "1  Mair-chlaa er ny jallooyn bun-chlaa.   \n",
              "\n",
              "                                      mk  \\\n",
              "0                            Исус е жив!   \n",
              "1  \"Рацете на проектите ни се приоритет\"   \n",
              "\n",
              "                                                  mg  \\\n",
              "0                                   Velona i Jesosy!   \n",
              "1  Ny tànana amin'ny tetikasa no laharam-pahamehanay   \n",
              "\n",
              "                                         kinyarwanda  \\\n",
              "0                     Umwana Murizi ntakurwa urutozi   \n",
              "1  serupyipyinyurimpyisi yonsonyoyesakwe!sakwe;so...   \n",
              "\n",
              "                                       it  \n",
              "0                            Gesù è vivo!  \n",
              "1  Mani sul progetto è la nostra priorità  "
            ],
            "text/html": [
              "\n",
              "  <div id=\"df-1874295d-4269-48c4-a463-b2120d7dd6dd\">\n",
              "    <div class=\"colab-df-container\">\n",
              "      <div>\n",
              "<style scoped>\n",
              "    .dataframe tbody tr th:only-of-type {\n",
              "        vertical-align: middle;\n",
              "    }\n",
              "\n",
              "    .dataframe tbody tr th {\n",
              "        vertical-align: top;\n",
              "    }\n",
              "\n",
              "    .dataframe thead th {\n",
              "        text-align: right;\n",
              "    }\n",
              "</style>\n",
              "<table border=\"1\" class=\"dataframe\">\n",
              "  <thead>\n",
              "    <tr style=\"text-align: right;\">\n",
              "      <th></th>\n",
              "      <th>english</th>\n",
              "      <th>rw</th>\n",
              "      <th>kg</th>\n",
              "      <th>kj</th>\n",
              "      <th>lg</th>\n",
              "      <th>ln</th>\n",
              "      <th>lu</th>\n",
              "      <th>gv</th>\n",
              "      <th>mk</th>\n",
              "      <th>mg</th>\n",
              "      <th>kinyarwanda</th>\n",
              "      <th>it</th>\n",
              "    </tr>\n",
              "  </thead>\n",
              "  <tbody>\n",
              "    <tr>\n",
              "      <th>0</th>\n",
              "      <td>Jesus is alive!</td>\n",
              "      <td>Yesu ni muzima!</td>\n",
              "      <td>Yezu kele na luzingu!</td>\n",
              "      <td>Jesus okwa li e na omwenyo!</td>\n",
              "      <td>Yesu mulamu!</td>\n",
              "      <td>Yesu azali na bomoi!</td>\n",
              "      <td>Yesu i mūmi!</td>\n",
              "      <td>Dooyrt Yeesey r'ee,</td>\n",
              "      <td>Исус е жив!</td>\n",
              "      <td>Velona i Jesosy!</td>\n",
              "      <td>Umwana Murizi ntakurwa urutozi</td>\n",
              "      <td>Gesù è vivo!</td>\n",
              "    </tr>\n",
              "    <tr>\n",
              "      <th>1</th>\n",
              "      <td>Hands on projects is our priority</td>\n",
              "      <td>Ibintu tugomba gushyira mu mwanya wa mbere ni ...</td>\n",
              "      <td>Mbongo ya kisalu kele mambu ya kuluta mfunu yi...</td>\n",
              "      <td>Ohai tu kwafele tu kale twa pitifa komesho oil...</td>\n",
              "      <td>Okwenyigira mu mirimu gy'awaka kye kintu kye t...</td>\n",
              "      <td>Misala ya mabɔkɔ ezali likambo ya liboso oyo t...</td>\n",
              "      <td>Kutangidija bintu bya kutangidija kumeso i kwi...</td>\n",
              "      <td>Mair-chlaa er ny jallooyn bun-chlaa.</td>\n",
              "      <td>\"Рацете на проектите ни се приоритет\"</td>\n",
              "      <td>Ny tànana amin'ny tetikasa no laharam-pahamehanay</td>\n",
              "      <td>serupyipyinyurimpyisi yonsonyoyesakwe!sakwe;so...</td>\n",
              "      <td>Mani sul progetto è la nostra priorità</td>\n",
              "    </tr>\n",
              "  </tbody>\n",
              "</table>\n",
              "</div>\n",
              "      <button class=\"colab-df-convert\" onclick=\"convertToInteractive('df-1874295d-4269-48c4-a463-b2120d7dd6dd')\"\n",
              "              title=\"Convert this dataframe to an interactive table.\"\n",
              "              style=\"display:none;\">\n",
              "        \n",
              "  <svg xmlns=\"http://www.w3.org/2000/svg\" height=\"24px\"viewBox=\"0 0 24 24\"\n",
              "       width=\"24px\">\n",
              "    <path d=\"M0 0h24v24H0V0z\" fill=\"none\"/>\n",
              "    <path d=\"M18.56 5.44l.94 2.06.94-2.06 2.06-.94-2.06-.94-.94-2.06-.94 2.06-2.06.94zm-11 1L8.5 8.5l.94-2.06 2.06-.94-2.06-.94L8.5 2.5l-.94 2.06-2.06.94zm10 10l.94 2.06.94-2.06 2.06-.94-2.06-.94-.94-2.06-.94 2.06-2.06.94z\"/><path d=\"M17.41 7.96l-1.37-1.37c-.4-.4-.92-.59-1.43-.59-.52 0-1.04.2-1.43.59L10.3 9.45l-7.72 7.72c-.78.78-.78 2.05 0 2.83L4 21.41c.39.39.9.59 1.41.59.51 0 1.02-.2 1.41-.59l7.78-7.78 2.81-2.81c.8-.78.8-2.07 0-2.86zM5.41 20L4 18.59l7.72-7.72 1.47 1.35L5.41 20z\"/>\n",
              "  </svg>\n",
              "      </button>\n",
              "      \n",
              "  <style>\n",
              "    .colab-df-container {\n",
              "      display:flex;\n",
              "      flex-wrap:wrap;\n",
              "      gap: 12px;\n",
              "    }\n",
              "\n",
              "    .colab-df-convert {\n",
              "      background-color: #E8F0FE;\n",
              "      border: none;\n",
              "      border-radius: 50%;\n",
              "      cursor: pointer;\n",
              "      display: none;\n",
              "      fill: #1967D2;\n",
              "      height: 32px;\n",
              "      padding: 0 0 0 0;\n",
              "      width: 32px;\n",
              "    }\n",
              "\n",
              "    .colab-df-convert:hover {\n",
              "      background-color: #E2EBFA;\n",
              "      box-shadow: 0px 1px 2px rgba(60, 64, 67, 0.3), 0px 1px 3px 1px rgba(60, 64, 67, 0.15);\n",
              "      fill: #174EA6;\n",
              "    }\n",
              "\n",
              "    [theme=dark] .colab-df-convert {\n",
              "      background-color: #3B4455;\n",
              "      fill: #D2E3FC;\n",
              "    }\n",
              "\n",
              "    [theme=dark] .colab-df-convert:hover {\n",
              "      background-color: #434B5C;\n",
              "      box-shadow: 0px 1px 3px 1px rgba(0, 0, 0, 0.15);\n",
              "      filter: drop-shadow(0px 1px 2px rgba(0, 0, 0, 0.3));\n",
              "      fill: #FFFFFF;\n",
              "    }\n",
              "  </style>\n",
              "\n",
              "      <script>\n",
              "        const buttonEl =\n",
              "          document.querySelector('#df-1874295d-4269-48c4-a463-b2120d7dd6dd button.colab-df-convert');\n",
              "        buttonEl.style.display =\n",
              "          google.colab.kernel.accessAllowed ? 'block' : 'none';\n",
              "\n",
              "        async function convertToInteractive(key) {\n",
              "          const element = document.querySelector('#df-1874295d-4269-48c4-a463-b2120d7dd6dd');\n",
              "          const dataTable =\n",
              "            await google.colab.kernel.invokeFunction('convertToInteractive',\n",
              "                                                     [key], {});\n",
              "          if (!dataTable) return;\n",
              "\n",
              "          const docLinkHtml = 'Like what you see? Visit the ' +\n",
              "            '<a target=\"_blank\" href=https://colab.research.google.com/notebooks/data_table.ipynb>data table notebook</a>'\n",
              "            + ' to learn more about interactive tables.';\n",
              "          element.innerHTML = '';\n",
              "          dataTable['output_type'] = 'display_data';\n",
              "          await google.colab.output.renderOutput(dataTable, element);\n",
              "          const docLink = document.createElement('div');\n",
              "          docLink.innerHTML = docLinkHtml;\n",
              "          element.appendChild(docLink);\n",
              "        }\n",
              "      </script>\n",
              "    </div>\n",
              "  </div>\n",
              "  "
            ]
          },
          "metadata": {},
          "execution_count": 74
        }
      ]
    },
    {
      "cell_type": "code",
      "source": [
        "df['english']"
      ],
      "metadata": {
        "colab": {
          "base_uri": "https://localhost:8080/"
        },
        "id": "6JGJNvKPouHr",
        "outputId": "f40bc3ba-0956-44e6-eb4d-96d496015c54"
      },
      "execution_count": 69,
      "outputs": [
        {
          "output_type": "execute_result",
          "data": {
            "text/plain": [
              "0                      Jesus is alive!\n",
              "1    Hands on projects is our priority\n",
              "Name: english, dtype: object"
            ]
          },
          "metadata": {},
          "execution_count": 69
        }
      ]
    },
    {
      "cell_type": "code",
      "source": [
        "from urllib.error import HTTPError\n",
        "for language in languages_json[70:100]:\n",
        "  code = language['code']\n",
        "  try:\n",
        "    # create column with name as language code\n",
        "    df[code] = model.translate(df['english'], source_lang='en', target_lang=code)\n",
        "  except:\n",
        "    pass  "
      ],
      "metadata": {
        "colab": {
          "base_uri": "https://localhost:8080/"
        },
        "id": "cYyiuM6fYV_4",
        "outputId": "7c6d517c-2169-4894-982c-f09adf80b5ce"
      },
      "execution_count": 70,
      "outputs": [
        {
          "output_type": "stream",
          "name": "stderr",
          "text": [
            "/usr/local/lib/python3.7/dist-packages/transformers/generation_utils.py:1364: UserWarning: Neither `max_length` nor `max_new_tokens` has been set, `max_length` will default to 512 (`self.config.max_length`). Controlling `max_length` via the config is deprecated and `max_length` will be removed from the config in v5 of Transformers -- we recommend using `max_new_tokens` to control the maximum length of the generation.\n",
            "  UserWarning,\n"
          ]
        }
      ]
    },
    {
      "cell_type": "code",
      "source": [
        "df"
      ],
      "metadata": {
        "colab": {
          "base_uri": "https://localhost:8080/",
          "height": 330
        },
        "id": "o6Pua8ALh9RR",
        "outputId": "514e9ea7-5108-44d6-e5ea-273f3e606958"
      },
      "execution_count": 71,
      "outputs": [
        {
          "output_type": "execute_result",
          "data": {
            "text/plain": [
              "                             english  \\\n",
              "0                    Jesus is alive!   \n",
              "1  Hands on projects is our priority   \n",
              "\n",
              "                                                  rw  \\\n",
              "0                                    Yesu ni muzima!   \n",
              "1  Ibintu tugomba gushyira mu mwanya wa mbere ni ...   \n",
              "\n",
              "                                                  kg  \\\n",
              "0                              Yezu kele na luzingu!   \n",
              "1  Mbongo ya kisalu kele mambu ya kuluta mfunu yi...   \n",
              "\n",
              "                                                  kj  \\\n",
              "0                        Jesus okwa li e na omwenyo!   \n",
              "1  Ohai tu kwafele tu kale twa pitifa komesho oil...   \n",
              "\n",
              "                                                  lg  \\\n",
              "0                                       Yesu mulamu!   \n",
              "1  Okwenyigira mu mirimu gy'awaka kye kintu kye t...   \n",
              "\n",
              "                                                  ln  \\\n",
              "0                               Yesu azali na bomoi!   \n",
              "1  Misala ya mabɔkɔ ezali likambo ya liboso oyo t...   \n",
              "\n",
              "                                                  lu  \\\n",
              "0                                       Yesu i mūmi!   \n",
              "1  Kutangidija bintu bya kutangidija kumeso i kwi...   \n",
              "\n",
              "                                     gv  \\\n",
              "0                   Dooyrt Yeesey r'ee,   \n",
              "1  Mair-chlaa er ny jallooyn bun-chlaa.   \n",
              "\n",
              "                                      mk  \\\n",
              "0                            Исус е жив!   \n",
              "1  \"Рацете на проектите ни се приоритет\"   \n",
              "\n",
              "                                                  mg  \\\n",
              "0                                   Velona i Jesosy!   \n",
              "1  Ny tànana amin'ny tetikasa no laharam-pahamehanay   \n",
              "\n",
              "                                         kinyarwanda  \\\n",
              "0                     Umwana Murizi ntakurwa urutozi   \n",
              "1  serupyipyinyurimpyisi yonsonyoyesakwe!sakwe;so...   \n",
              "\n",
              "                                       it  \n",
              "0                            Gesù è vivo!  \n",
              "1  Mani sul progetto è la nostra priorità  "
            ],
            "text/html": [
              "\n",
              "  <div id=\"df-5afa1552-8115-4d7c-ba81-b4931e8468be\">\n",
              "    <div class=\"colab-df-container\">\n",
              "      <div>\n",
              "<style scoped>\n",
              "    .dataframe tbody tr th:only-of-type {\n",
              "        vertical-align: middle;\n",
              "    }\n",
              "\n",
              "    .dataframe tbody tr th {\n",
              "        vertical-align: top;\n",
              "    }\n",
              "\n",
              "    .dataframe thead th {\n",
              "        text-align: right;\n",
              "    }\n",
              "</style>\n",
              "<table border=\"1\" class=\"dataframe\">\n",
              "  <thead>\n",
              "    <tr style=\"text-align: right;\">\n",
              "      <th></th>\n",
              "      <th>english</th>\n",
              "      <th>rw</th>\n",
              "      <th>kg</th>\n",
              "      <th>kj</th>\n",
              "      <th>lg</th>\n",
              "      <th>ln</th>\n",
              "      <th>lu</th>\n",
              "      <th>gv</th>\n",
              "      <th>mk</th>\n",
              "      <th>mg</th>\n",
              "      <th>kinyarwanda</th>\n",
              "      <th>it</th>\n",
              "    </tr>\n",
              "  </thead>\n",
              "  <tbody>\n",
              "    <tr>\n",
              "      <th>0</th>\n",
              "      <td>Jesus is alive!</td>\n",
              "      <td>Yesu ni muzima!</td>\n",
              "      <td>Yezu kele na luzingu!</td>\n",
              "      <td>Jesus okwa li e na omwenyo!</td>\n",
              "      <td>Yesu mulamu!</td>\n",
              "      <td>Yesu azali na bomoi!</td>\n",
              "      <td>Yesu i mūmi!</td>\n",
              "      <td>Dooyrt Yeesey r'ee,</td>\n",
              "      <td>Исус е жив!</td>\n",
              "      <td>Velona i Jesosy!</td>\n",
              "      <td>Umwana Murizi ntakurwa urutozi</td>\n",
              "      <td>Gesù è vivo!</td>\n",
              "    </tr>\n",
              "    <tr>\n",
              "      <th>1</th>\n",
              "      <td>Hands on projects is our priority</td>\n",
              "      <td>Ibintu tugomba gushyira mu mwanya wa mbere ni ...</td>\n",
              "      <td>Mbongo ya kisalu kele mambu ya kuluta mfunu yi...</td>\n",
              "      <td>Ohai tu kwafele tu kale twa pitifa komesho oil...</td>\n",
              "      <td>Okwenyigira mu mirimu gy'awaka kye kintu kye t...</td>\n",
              "      <td>Misala ya mabɔkɔ ezali likambo ya liboso oyo t...</td>\n",
              "      <td>Kutangidija bintu bya kutangidija kumeso i kwi...</td>\n",
              "      <td>Mair-chlaa er ny jallooyn bun-chlaa.</td>\n",
              "      <td>\"Рацете на проектите ни се приоритет\"</td>\n",
              "      <td>Ny tànana amin'ny tetikasa no laharam-pahamehanay</td>\n",
              "      <td>serupyipyinyurimpyisi yonsonyoyesakwe!sakwe;so...</td>\n",
              "      <td>Mani sul progetto è la nostra priorità</td>\n",
              "    </tr>\n",
              "  </tbody>\n",
              "</table>\n",
              "</div>\n",
              "      <button class=\"colab-df-convert\" onclick=\"convertToInteractive('df-5afa1552-8115-4d7c-ba81-b4931e8468be')\"\n",
              "              title=\"Convert this dataframe to an interactive table.\"\n",
              "              style=\"display:none;\">\n",
              "        \n",
              "  <svg xmlns=\"http://www.w3.org/2000/svg\" height=\"24px\"viewBox=\"0 0 24 24\"\n",
              "       width=\"24px\">\n",
              "    <path d=\"M0 0h24v24H0V0z\" fill=\"none\"/>\n",
              "    <path d=\"M18.56 5.44l.94 2.06.94-2.06 2.06-.94-2.06-.94-.94-2.06-.94 2.06-2.06.94zm-11 1L8.5 8.5l.94-2.06 2.06-.94-2.06-.94L8.5 2.5l-.94 2.06-2.06.94zm10 10l.94 2.06.94-2.06 2.06-.94-2.06-.94-.94-2.06-.94 2.06-2.06.94z\"/><path d=\"M17.41 7.96l-1.37-1.37c-.4-.4-.92-.59-1.43-.59-.52 0-1.04.2-1.43.59L10.3 9.45l-7.72 7.72c-.78.78-.78 2.05 0 2.83L4 21.41c.39.39.9.59 1.41.59.51 0 1.02-.2 1.41-.59l7.78-7.78 2.81-2.81c.8-.78.8-2.07 0-2.86zM5.41 20L4 18.59l7.72-7.72 1.47 1.35L5.41 20z\"/>\n",
              "  </svg>\n",
              "      </button>\n",
              "      \n",
              "  <style>\n",
              "    .colab-df-container {\n",
              "      display:flex;\n",
              "      flex-wrap:wrap;\n",
              "      gap: 12px;\n",
              "    }\n",
              "\n",
              "    .colab-df-convert {\n",
              "      background-color: #E8F0FE;\n",
              "      border: none;\n",
              "      border-radius: 50%;\n",
              "      cursor: pointer;\n",
              "      display: none;\n",
              "      fill: #1967D2;\n",
              "      height: 32px;\n",
              "      padding: 0 0 0 0;\n",
              "      width: 32px;\n",
              "    }\n",
              "\n",
              "    .colab-df-convert:hover {\n",
              "      background-color: #E2EBFA;\n",
              "      box-shadow: 0px 1px 2px rgba(60, 64, 67, 0.3), 0px 1px 3px 1px rgba(60, 64, 67, 0.15);\n",
              "      fill: #174EA6;\n",
              "    }\n",
              "\n",
              "    [theme=dark] .colab-df-convert {\n",
              "      background-color: #3B4455;\n",
              "      fill: #D2E3FC;\n",
              "    }\n",
              "\n",
              "    [theme=dark] .colab-df-convert:hover {\n",
              "      background-color: #434B5C;\n",
              "      box-shadow: 0px 1px 3px 1px rgba(0, 0, 0, 0.15);\n",
              "      filter: drop-shadow(0px 1px 2px rgba(0, 0, 0, 0.3));\n",
              "      fill: #FFFFFF;\n",
              "    }\n",
              "  </style>\n",
              "\n",
              "      <script>\n",
              "        const buttonEl =\n",
              "          document.querySelector('#df-5afa1552-8115-4d7c-ba81-b4931e8468be button.colab-df-convert');\n",
              "        buttonEl.style.display =\n",
              "          google.colab.kernel.accessAllowed ? 'block' : 'none';\n",
              "\n",
              "        async function convertToInteractive(key) {\n",
              "          const element = document.querySelector('#df-5afa1552-8115-4d7c-ba81-b4931e8468be');\n",
              "          const dataTable =\n",
              "            await google.colab.kernel.invokeFunction('convertToInteractive',\n",
              "                                                     [key], {});\n",
              "          if (!dataTable) return;\n",
              "\n",
              "          const docLinkHtml = 'Like what you see? Visit the ' +\n",
              "            '<a target=\"_blank\" href=https://colab.research.google.com/notebooks/data_table.ipynb>data table notebook</a>'\n",
              "            + ' to learn more about interactive tables.';\n",
              "          element.innerHTML = '';\n",
              "          dataTable['output_type'] = 'display_data';\n",
              "          await google.colab.output.renderOutput(dataTable, element);\n",
              "          const docLink = document.createElement('div');\n",
              "          docLink.innerHTML = docLinkHtml;\n",
              "          element.appendChild(docLink);\n",
              "        }\n",
              "      </script>\n",
              "    </div>\n",
              "  </div>\n",
              "  "
            ]
          },
          "metadata": {},
          "execution_count": 71
        }
      ]
    }
  ]
}