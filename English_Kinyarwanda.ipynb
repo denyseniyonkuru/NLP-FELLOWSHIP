{
  "cells": [
    {
      "cell_type": "markdown",
      "metadata": {
        "id": "view-in-github",
        "colab_type": "text"
      },
      "source": [
        "<a href=\"https://colab.research.google.com/github/denyseniyonkuru/NLP-FELLOWSHIP/blob/main/English_Kinyarwanda.ipynb\" target=\"_parent\"><img src=\"https://colab.research.google.com/assets/colab-badge.svg\" alt=\"Open In Colab\"/></a>"
      ]
    },
    {
      "cell_type": "code",
      "execution_count": null,
      "metadata": {
        "colab": {
          "base_uri": "https://localhost:8080/",
          "height": 36
        },
        "id": "C3bE2niYtTmf",
        "outputId": "d5f9159f-0be0-422b-c11b-071a809e2f7f"
      },
      "outputs": [
        {
          "data": {
            "application/vnd.google.colaboratory.intrinsic+json": {
              "type": "string"
            },
            "text/plain": [
              "'!\"#$%&\\'()*+,-./:;<=>?@[\\\\]^_`{|}~'"
            ]
          },
          "execution_count": 3,
          "metadata": {},
          "output_type": "execute_result"
        }
      ],
      "source": [
        "import pandas as pd\n",
        "import string\n",
        "string.punctuation\n"
      ]
    },
    {
      "cell_type": "code",
      "execution_count": null,
      "metadata": {
        "colab": {
          "base_uri": "https://localhost:8080/",
          "height": 206
        },
        "id": "bsvNml47tXlq",
        "outputId": "7a64d49e-fc18-4fee-a4e4-2aedf6f509a1"
      },
      "outputs": [
        {
          "data": {
            "text/html": [
              "\n",
              "  <div id=\"df-6ce44958-9456-4ffd-ab71-8093bdda4fa6\">\n",
              "    <div class=\"colab-df-container\">\n",
              "      <div>\n",
              "<style scoped>\n",
              "    .dataframe tbody tr th:only-of-type {\n",
              "        vertical-align: middle;\n",
              "    }\n",
              "\n",
              "    .dataframe tbody tr th {\n",
              "        vertical-align: top;\n",
              "    }\n",
              "\n",
              "    .dataframe thead th {\n",
              "        text-align: right;\n",
              "    }\n",
              "</style>\n",
              "<table border=\"1\" class=\"dataframe\">\n",
              "  <thead>\n",
              "    <tr style=\"text-align: right;\">\n",
              "      <th></th>\n",
              "      <th>ID</th>\n",
              "      <th>English</th>\n",
              "      <th>Kinyarwanda</th>\n",
              "    </tr>\n",
              "  </thead>\n",
              "  <tbody>\n",
              "    <tr>\n",
              "      <th>0</th>\n",
              "      <td>ID_IFVTMXW8</td>\n",
              "      <td>F_all back to threading messages by subject</td>\n",
              "      <td>Inyuma Kuri Ubutumwa ku Ikivugwaho</td>\n",
              "    </tr>\n",
              "    <tr>\n",
              "      <th>1</th>\n",
              "      <td>ID_SBXUPXE3</td>\n",
              "      <td>You will have to restart GIMP for the followin...</td>\n",
              "      <td>Kuri Ongera utangire kugirango i Amahinduka Ku...</td>\n",
              "    </tr>\n",
              "    <tr>\n",
              "      <th>2</th>\n",
              "      <td>ID_ZOCZ3PXQ</td>\n",
              "      <td>The radio button whose group this widget belon...</td>\n",
              "      <td>Akabuto bya Itsinda iyi Kuri</td>\n",
              "    </tr>\n",
              "    <tr>\n",
              "      <th>3</th>\n",
              "      <td>ID_6AVBJ1YS</td>\n",
              "      <td>Print all subdirectories in a directory.</td>\n",
              "      <td>Byose Ububiko bwungirije in a bushyinguro</td>\n",
              "    </tr>\n",
              "    <tr>\n",
              "      <th>4</th>\n",
              "      <td>ID_FW4V44WK</td>\n",
              "      <td>Paste the contents of the clipboard as a new i...</td>\n",
              "      <td>i Ibigize Bya i Ububikokoporora Nka A Gishya I...</td>\n",
              "    </tr>\n",
              "  </tbody>\n",
              "</table>\n",
              "</div>\n",
              "      <button class=\"colab-df-convert\" onclick=\"convertToInteractive('df-6ce44958-9456-4ffd-ab71-8093bdda4fa6')\"\n",
              "              title=\"Convert this dataframe to an interactive table.\"\n",
              "              style=\"display:none;\">\n",
              "        \n",
              "  <svg xmlns=\"http://www.w3.org/2000/svg\" height=\"24px\"viewBox=\"0 0 24 24\"\n",
              "       width=\"24px\">\n",
              "    <path d=\"M0 0h24v24H0V0z\" fill=\"none\"/>\n",
              "    <path d=\"M18.56 5.44l.94 2.06.94-2.06 2.06-.94-2.06-.94-.94-2.06-.94 2.06-2.06.94zm-11 1L8.5 8.5l.94-2.06 2.06-.94-2.06-.94L8.5 2.5l-.94 2.06-2.06.94zm10 10l.94 2.06.94-2.06 2.06-.94-2.06-.94-.94-2.06-.94 2.06-2.06.94z\"/><path d=\"M17.41 7.96l-1.37-1.37c-.4-.4-.92-.59-1.43-.59-.52 0-1.04.2-1.43.59L10.3 9.45l-7.72 7.72c-.78.78-.78 2.05 0 2.83L4 21.41c.39.39.9.59 1.41.59.51 0 1.02-.2 1.41-.59l7.78-7.78 2.81-2.81c.8-.78.8-2.07 0-2.86zM5.41 20L4 18.59l7.72-7.72 1.47 1.35L5.41 20z\"/>\n",
              "  </svg>\n",
              "      </button>\n",
              "      \n",
              "  <style>\n",
              "    .colab-df-container {\n",
              "      display:flex;\n",
              "      flex-wrap:wrap;\n",
              "      gap: 12px;\n",
              "    }\n",
              "\n",
              "    .colab-df-convert {\n",
              "      background-color: #E8F0FE;\n",
              "      border: none;\n",
              "      border-radius: 50%;\n",
              "      cursor: pointer;\n",
              "      display: none;\n",
              "      fill: #1967D2;\n",
              "      height: 32px;\n",
              "      padding: 0 0 0 0;\n",
              "      width: 32px;\n",
              "    }\n",
              "\n",
              "    .colab-df-convert:hover {\n",
              "      background-color: #E2EBFA;\n",
              "      box-shadow: 0px 1px 2px rgba(60, 64, 67, 0.3), 0px 1px 3px 1px rgba(60, 64, 67, 0.15);\n",
              "      fill: #174EA6;\n",
              "    }\n",
              "\n",
              "    [theme=dark] .colab-df-convert {\n",
              "      background-color: #3B4455;\n",
              "      fill: #D2E3FC;\n",
              "    }\n",
              "\n",
              "    [theme=dark] .colab-df-convert:hover {\n",
              "      background-color: #434B5C;\n",
              "      box-shadow: 0px 1px 3px 1px rgba(0, 0, 0, 0.15);\n",
              "      filter: drop-shadow(0px 1px 2px rgba(0, 0, 0, 0.3));\n",
              "      fill: #FFFFFF;\n",
              "    }\n",
              "  </style>\n",
              "\n",
              "      <script>\n",
              "        const buttonEl =\n",
              "          document.querySelector('#df-6ce44958-9456-4ffd-ab71-8093bdda4fa6 button.colab-df-convert');\n",
              "        buttonEl.style.display =\n",
              "          google.colab.kernel.accessAllowed ? 'block' : 'none';\n",
              "\n",
              "        async function convertToInteractive(key) {\n",
              "          const element = document.querySelector('#df-6ce44958-9456-4ffd-ab71-8093bdda4fa6');\n",
              "          const dataTable =\n",
              "            await google.colab.kernel.invokeFunction('convertToInteractive',\n",
              "                                                     [key], {});\n",
              "          if (!dataTable) return;\n",
              "\n",
              "          const docLinkHtml = 'Like what you see? Visit the ' +\n",
              "            '<a target=\"_blank\" href=https://colab.research.google.com/notebooks/data_table.ipynb>data table notebook</a>'\n",
              "            + ' to learn more about interactive tables.';\n",
              "          element.innerHTML = '';\n",
              "          dataTable['output_type'] = 'display_data';\n",
              "          await google.colab.output.renderOutput(dataTable, element);\n",
              "          const docLink = document.createElement('div');\n",
              "          docLink.innerHTML = docLinkHtml;\n",
              "          element.appendChild(docLink);\n",
              "        }\n",
              "      </script>\n",
              "    </div>\n",
              "  </div>\n",
              "  "
            ],
            "text/plain": [
              "            ID                                            English  \\\n",
              "0  ID_IFVTMXW8        F_all back to threading messages by subject   \n",
              "1  ID_SBXUPXE3  You will have to restart GIMP for the followin...   \n",
              "2  ID_ZOCZ3PXQ  The radio button whose group this widget belon...   \n",
              "3  ID_6AVBJ1YS           Print all subdirectories in a directory.   \n",
              "4  ID_FW4V44WK  Paste the contents of the clipboard as a new i...   \n",
              "\n",
              "                                         Kinyarwanda  \n",
              "0                 Inyuma Kuri Ubutumwa ku Ikivugwaho  \n",
              "1  Kuri Ongera utangire kugirango i Amahinduka Ku...  \n",
              "2                       Akabuto bya Itsinda iyi Kuri  \n",
              "3          Byose Ububiko bwungirije in a bushyinguro  \n",
              "4  i Ibigize Bya i Ububikokoporora Nka A Gishya I...  "
            ]
          },
          "execution_count": 2,
          "metadata": {},
          "output_type": "execute_result"
        }
      ],
      "source": [
        "df = pd.read_csv(\"/content/drive/MyDrive/NLP-FELLOWSHIP/Eng_Kin-Paralleldata (2).csv\")\n",
        "df.head()"
      ]
    },
    {
      "cell_type": "code",
      "execution_count": null,
      "metadata": {
        "colab": {
          "base_uri": "https://localhost:8080/"
        },
        "id": "mBjIAD9EMYsH",
        "outputId": "3d1fbfa8-e6b5-4303-df00-8a49b21c1e3f"
      },
      "outputs": [
        {
          "data": {
            "text/plain": [
              "0                       Inyuma Kuri Ubutumwa ku Ikivugwaho\n",
              "1        Kuri Ongera utangire kugirango i Amahinduka Ku...\n",
              "2                             Akabuto bya Itsinda iyi Kuri\n",
              "3                Byose Ububiko bwungirije in a bushyinguro\n",
              "4        i Ibigize Bya i Ububikokoporora Nka A Gishya I...\n",
              "                               ...                        \n",
              "20585    . Kuri Gushigikira na na Gushigikira ya: Biren...\n",
              "20586    OYA Kugena Imiterere (Cyangwa OYA Ku Byose?) i...\n",
              "20587              ... Ibindi: Kuri na Bayite Bya Bidakora\n",
              "20588    & kiten; Shakisha ya:. Gushoboza iyi, Ubwoko i...\n",
              "20589    Gushaka A Cyuzuye Incamake ku Byose Amabwiriza...\n",
              "Name: Kinyarwanda, Length: 20590, dtype: object"
            ]
          },
          "execution_count": 6,
          "metadata": {},
          "output_type": "execute_result"
        }
      ],
      "source": [
        "df[\"Kinyarwanda\"]"
      ]
    },
    {
      "cell_type": "code",
      "execution_count": null,
      "metadata": {
        "colab": {
          "base_uri": "https://localhost:8080/",
          "height": 337
        },
        "id": "KdLhfFnjK-wb",
        "outputId": "72f26682-4510-48e8-85e3-999bb2f50a7d"
      },
      "outputs": [
        {
          "data": {
            "text/html": [
              "\n",
              "  <div id=\"df-fd993f72-51a0-4451-b382-761a21fb046f\">\n",
              "    <div class=\"colab-df-container\">\n",
              "      <div>\n",
              "<style scoped>\n",
              "    .dataframe tbody tr th:only-of-type {\n",
              "        vertical-align: middle;\n",
              "    }\n",
              "\n",
              "    .dataframe tbody tr th {\n",
              "        vertical-align: top;\n",
              "    }\n",
              "\n",
              "    .dataframe thead th {\n",
              "        text-align: right;\n",
              "    }\n",
              "</style>\n",
              "<table border=\"1\" class=\"dataframe\">\n",
              "  <thead>\n",
              "    <tr style=\"text-align: right;\">\n",
              "      <th></th>\n",
              "      <th>ID</th>\n",
              "      <th>English</th>\n",
              "      <th>Kinyarwanda</th>\n",
              "      <th>Kinyarwanda22</th>\n",
              "      <th>KinyarwandaWithNoPunctuation</th>\n",
              "    </tr>\n",
              "  </thead>\n",
              "  <tbody>\n",
              "    <tr>\n",
              "      <th>0</th>\n",
              "      <td>ID_IFVTMXW8</td>\n",
              "      <td>F_all back to threading messages by subject</td>\n",
              "      <td>Inyuma Kuri Ubutumwa ku Ikivugwaho</td>\n",
              "      <td>Inyuma Kuri Ubutumwa ku Ikivugwaho</td>\n",
              "      <td>Inyuma Kuri Ubutumwa ku Ikivugwaho</td>\n",
              "    </tr>\n",
              "    <tr>\n",
              "      <th>1</th>\n",
              "      <td>ID_SBXUPXE3</td>\n",
              "      <td>You will have to restart GIMP for the followin...</td>\n",
              "      <td>Kuri Ongera utangire kugirango i Amahinduka Ku...</td>\n",
              "      <td>Kuri Ongera utangire kugirango i Amahinduka Ku...</td>\n",
              "      <td>Kuri Ongera utangire kugirango i Amahinduka Ku...</td>\n",
              "    </tr>\n",
              "    <tr>\n",
              "      <th>2</th>\n",
              "      <td>ID_ZOCZ3PXQ</td>\n",
              "      <td>The radio button whose group this widget belon...</td>\n",
              "      <td>Akabuto bya Itsinda iyi Kuri</td>\n",
              "      <td>Akabuto bya Itsinda iyi Kuri</td>\n",
              "      <td>Akabuto bya Itsinda iyi Kuri</td>\n",
              "    </tr>\n",
              "    <tr>\n",
              "      <th>3</th>\n",
              "      <td>ID_6AVBJ1YS</td>\n",
              "      <td>Print all subdirectories in a directory.</td>\n",
              "      <td>Byose Ububiko bwungirije in a bushyinguro</td>\n",
              "      <td>Byose Ububiko bwungirije in a bushyinguro</td>\n",
              "      <td>Byose Ububiko bwungirije in a bushyinguro</td>\n",
              "    </tr>\n",
              "    <tr>\n",
              "      <th>4</th>\n",
              "      <td>ID_FW4V44WK</td>\n",
              "      <td>Paste the contents of the clipboard as a new i...</td>\n",
              "      <td>i Ibigize Bya i Ububikokoporora Nka A Gishya I...</td>\n",
              "      <td>i Ibigize Bya i Ububikokoporora Nka A Gishya I...</td>\n",
              "      <td>i Ibigize Bya i Ububikokoporora Nka A Gishya I...</td>\n",
              "    </tr>\n",
              "  </tbody>\n",
              "</table>\n",
              "</div>\n",
              "      <button class=\"colab-df-convert\" onclick=\"convertToInteractive('df-fd993f72-51a0-4451-b382-761a21fb046f')\"\n",
              "              title=\"Convert this dataframe to an interactive table.\"\n",
              "              style=\"display:none;\">\n",
              "        \n",
              "  <svg xmlns=\"http://www.w3.org/2000/svg\" height=\"24px\"viewBox=\"0 0 24 24\"\n",
              "       width=\"24px\">\n",
              "    <path d=\"M0 0h24v24H0V0z\" fill=\"none\"/>\n",
              "    <path d=\"M18.56 5.44l.94 2.06.94-2.06 2.06-.94-2.06-.94-.94-2.06-.94 2.06-2.06.94zm-11 1L8.5 8.5l.94-2.06 2.06-.94-2.06-.94L8.5 2.5l-.94 2.06-2.06.94zm10 10l.94 2.06.94-2.06 2.06-.94-2.06-.94-.94-2.06-.94 2.06-2.06.94z\"/><path d=\"M17.41 7.96l-1.37-1.37c-.4-.4-.92-.59-1.43-.59-.52 0-1.04.2-1.43.59L10.3 9.45l-7.72 7.72c-.78.78-.78 2.05 0 2.83L4 21.41c.39.39.9.59 1.41.59.51 0 1.02-.2 1.41-.59l7.78-7.78 2.81-2.81c.8-.78.8-2.07 0-2.86zM5.41 20L4 18.59l7.72-7.72 1.47 1.35L5.41 20z\"/>\n",
              "  </svg>\n",
              "      </button>\n",
              "      \n",
              "  <style>\n",
              "    .colab-df-container {\n",
              "      display:flex;\n",
              "      flex-wrap:wrap;\n",
              "      gap: 12px;\n",
              "    }\n",
              "\n",
              "    .colab-df-convert {\n",
              "      background-color: #E8F0FE;\n",
              "      border: none;\n",
              "      border-radius: 50%;\n",
              "      cursor: pointer;\n",
              "      display: none;\n",
              "      fill: #1967D2;\n",
              "      height: 32px;\n",
              "      padding: 0 0 0 0;\n",
              "      width: 32px;\n",
              "    }\n",
              "\n",
              "    .colab-df-convert:hover {\n",
              "      background-color: #E2EBFA;\n",
              "      box-shadow: 0px 1px 2px rgba(60, 64, 67, 0.3), 0px 1px 3px 1px rgba(60, 64, 67, 0.15);\n",
              "      fill: #174EA6;\n",
              "    }\n",
              "\n",
              "    [theme=dark] .colab-df-convert {\n",
              "      background-color: #3B4455;\n",
              "      fill: #D2E3FC;\n",
              "    }\n",
              "\n",
              "    [theme=dark] .colab-df-convert:hover {\n",
              "      background-color: #434B5C;\n",
              "      box-shadow: 0px 1px 3px 1px rgba(0, 0, 0, 0.15);\n",
              "      filter: drop-shadow(0px 1px 2px rgba(0, 0, 0, 0.3));\n",
              "      fill: #FFFFFF;\n",
              "    }\n",
              "  </style>\n",
              "\n",
              "      <script>\n",
              "        const buttonEl =\n",
              "          document.querySelector('#df-fd993f72-51a0-4451-b382-761a21fb046f button.colab-df-convert');\n",
              "        buttonEl.style.display =\n",
              "          google.colab.kernel.accessAllowed ? 'block' : 'none';\n",
              "\n",
              "        async function convertToInteractive(key) {\n",
              "          const element = document.querySelector('#df-fd993f72-51a0-4451-b382-761a21fb046f');\n",
              "          const dataTable =\n",
              "            await google.colab.kernel.invokeFunction('convertToInteractive',\n",
              "                                                     [key], {});\n",
              "          if (!dataTable) return;\n",
              "\n",
              "          const docLinkHtml = 'Like what you see? Visit the ' +\n",
              "            '<a target=\"_blank\" href=https://colab.research.google.com/notebooks/data_table.ipynb>data table notebook</a>'\n",
              "            + ' to learn more about interactive tables.';\n",
              "          element.innerHTML = '';\n",
              "          dataTable['output_type'] = 'display_data';\n",
              "          await google.colab.output.renderOutput(dataTable, element);\n",
              "          const docLink = document.createElement('div');\n",
              "          docLink.innerHTML = docLinkHtml;\n",
              "          element.appendChild(docLink);\n",
              "        }\n",
              "      </script>\n",
              "    </div>\n",
              "  </div>\n",
              "  "
            ],
            "text/plain": [
              "            ID                                            English  \\\n",
              "0  ID_IFVTMXW8        F_all back to threading messages by subject   \n",
              "1  ID_SBXUPXE3  You will have to restart GIMP for the followin...   \n",
              "2  ID_ZOCZ3PXQ  The radio button whose group this widget belon...   \n",
              "3  ID_6AVBJ1YS           Print all subdirectories in a directory.   \n",
              "4  ID_FW4V44WK  Paste the contents of the clipboard as a new i...   \n",
              "\n",
              "                                         Kinyarwanda  \\\n",
              "0                 Inyuma Kuri Ubutumwa ku Ikivugwaho   \n",
              "1  Kuri Ongera utangire kugirango i Amahinduka Ku...   \n",
              "2                       Akabuto bya Itsinda iyi Kuri   \n",
              "3          Byose Ububiko bwungirije in a bushyinguro   \n",
              "4  i Ibigize Bya i Ububikokoporora Nka A Gishya I...   \n",
              "\n",
              "                                       Kinyarwanda22  \\\n",
              "0                 Inyuma Kuri Ubutumwa ku Ikivugwaho   \n",
              "1  Kuri Ongera utangire kugirango i Amahinduka Ku...   \n",
              "2                       Akabuto bya Itsinda iyi Kuri   \n",
              "3          Byose Ububiko bwungirije in a bushyinguro   \n",
              "4  i Ibigize Bya i Ububikokoporora Nka A Gishya I...   \n",
              "\n",
              "                        KinyarwandaWithNoPunctuation  \n",
              "0                 Inyuma Kuri Ubutumwa ku Ikivugwaho  \n",
              "1  Kuri Ongera utangire kugirango i Amahinduka Ku...  \n",
              "2                       Akabuto bya Itsinda iyi Kuri  \n",
              "3          Byose Ububiko bwungirije in a bushyinguro  \n",
              "4  i Ibigize Bya i Ububikokoporora Nka A Gishya I...  "
            ]
          },
          "execution_count": 13,
          "metadata": {},
          "output_type": "execute_result"
        }
      ],
      "source": [
        "def remove_punctuation(text):\n",
        "    no_punct=[words for words in text if words not in string.punctuation]\n",
        "    words_wo_punct=''.join(no_punct)\n",
        "    return words_wo_punct\n",
        "df['KinyarwandaWithNoPunctuation']=df['Kinyarwanda'].apply(lambda x: remove_punctuation(x))\n",
        "df.head()"
      ]
    },
    {
      "cell_type": "code",
      "execution_count": null,
      "metadata": {
        "colab": {
          "base_uri": "https://localhost:8080/",
          "height": 54
        },
        "id": "_4UOhhUkP6Su",
        "outputId": "765b5359-313a-4962-c170-f882a62380c4"
      },
      "outputs": [
        {
          "data": {
            "application/vnd.google.colaboratory.intrinsic+json": {
              "type": "string"
            },
            "text/plain": [
              "'Urufunguzo ni Byakoreshejwe ya Kabiri Ryari ni na Kanda i Urufunguzo Nka Ryari Kanda ku i Kuhagarara Akabuto Cyangwa i Icyinjijwe Bya i Ibikubiyemo ni Kuhagarara Kanda i Urufunguzo Ryari Oya ni  kmid Gukina'"
            ]
          },
          "execution_count": 15,
          "metadata": {},
          "output_type": "execute_result"
        }
      ],
      "source": [
        "df[\"KinyarwandaWithNoPunctuation\"][9]"
      ]
    },
    {
      "cell_type": "code",
      "execution_count": null,
      "metadata": {
        "colab": {
          "base_uri": "https://localhost:8080/",
          "height": 389
        },
        "id": "tFpVvr-zQlcV",
        "outputId": "a0888281-cfde-40ce-c280-4221e493ddf3"
      },
      "outputs": [
        {
          "data": {
            "text/html": [
              "\n",
              "  <div id=\"df-07a281a0-0892-467d-aa93-64385535c106\">\n",
              "    <div class=\"colab-df-container\">\n",
              "      <div>\n",
              "<style scoped>\n",
              "    .dataframe tbody tr th:only-of-type {\n",
              "        vertical-align: middle;\n",
              "    }\n",
              "\n",
              "    .dataframe tbody tr th {\n",
              "        vertical-align: top;\n",
              "    }\n",
              "\n",
              "    .dataframe thead th {\n",
              "        text-align: right;\n",
              "    }\n",
              "</style>\n",
              "<table border=\"1\" class=\"dataframe\">\n",
              "  <thead>\n",
              "    <tr style=\"text-align: right;\">\n",
              "      <th></th>\n",
              "      <th>ID</th>\n",
              "      <th>English</th>\n",
              "      <th>Kinyarwanda</th>\n",
              "      <th>Kinyarwanda22</th>\n",
              "      <th>KinyarwandaWithNoPunctuation</th>\n",
              "      <th>cleanLinks</th>\n",
              "    </tr>\n",
              "  </thead>\n",
              "  <tbody>\n",
              "    <tr>\n",
              "      <th>0</th>\n",
              "      <td>ID_IFVTMXW8</td>\n",
              "      <td>F_all back to threading messages by subject</td>\n",
              "      <td>Inyuma Kuri Ubutumwa ku Ikivugwaho</td>\n",
              "      <td>Inyuma Kuri Ubutumwa ku Ikivugwaho</td>\n",
              "      <td>Inyuma Kuri Ubutumwa ku Ikivugwaho</td>\n",
              "      <td>Inyuma Kuri Ubutumwa ku Ikivugwaho</td>\n",
              "    </tr>\n",
              "    <tr>\n",
              "      <th>1</th>\n",
              "      <td>ID_SBXUPXE3</td>\n",
              "      <td>You will have to restart GIMP for the followin...</td>\n",
              "      <td>Kuri Ongera utangire kugirango i Amahinduka Ku...</td>\n",
              "      <td>Kuri Ongera utangire kugirango i Amahinduka Ku...</td>\n",
              "      <td>Kuri Ongera utangire kugirango i Amahinduka Ku...</td>\n",
              "      <td>Kuri Ongera utangire kugirango i Amahinduka Ku...</td>\n",
              "    </tr>\n",
              "    <tr>\n",
              "      <th>2</th>\n",
              "      <td>ID_ZOCZ3PXQ</td>\n",
              "      <td>The radio button whose group this widget belon...</td>\n",
              "      <td>Akabuto bya Itsinda iyi Kuri</td>\n",
              "      <td>Akabuto bya Itsinda iyi Kuri</td>\n",
              "      <td>Akabuto bya Itsinda iyi Kuri</td>\n",
              "      <td>Akabuto bya Itsinda iyi Kuri</td>\n",
              "    </tr>\n",
              "    <tr>\n",
              "      <th>3</th>\n",
              "      <td>ID_6AVBJ1YS</td>\n",
              "      <td>Print all subdirectories in a directory.</td>\n",
              "      <td>Byose Ububiko bwungirije in a bushyinguro</td>\n",
              "      <td>Byose Ububiko bwungirije in a bushyinguro</td>\n",
              "      <td>Byose Ububiko bwungirije in a bushyinguro</td>\n",
              "      <td>Byose Ububiko bwungirije in a bushyinguro</td>\n",
              "    </tr>\n",
              "    <tr>\n",
              "      <th>4</th>\n",
              "      <td>ID_FW4V44WK</td>\n",
              "      <td>Paste the contents of the clipboard as a new i...</td>\n",
              "      <td>i Ibigize Bya i Ububikokoporora Nka A Gishya I...</td>\n",
              "      <td>i Ibigize Bya i Ububikokoporora Nka A Gishya I...</td>\n",
              "      <td>i Ibigize Bya i Ububikokoporora Nka A Gishya I...</td>\n",
              "      <td>i Ibigize Bya i Ububikokoporora Nka A Gishya I...</td>\n",
              "    </tr>\n",
              "  </tbody>\n",
              "</table>\n",
              "</div>\n",
              "      <button class=\"colab-df-convert\" onclick=\"convertToInteractive('df-07a281a0-0892-467d-aa93-64385535c106')\"\n",
              "              title=\"Convert this dataframe to an interactive table.\"\n",
              "              style=\"display:none;\">\n",
              "        \n",
              "  <svg xmlns=\"http://www.w3.org/2000/svg\" height=\"24px\"viewBox=\"0 0 24 24\"\n",
              "       width=\"24px\">\n",
              "    <path d=\"M0 0h24v24H0V0z\" fill=\"none\"/>\n",
              "    <path d=\"M18.56 5.44l.94 2.06.94-2.06 2.06-.94-2.06-.94-.94-2.06-.94 2.06-2.06.94zm-11 1L8.5 8.5l.94-2.06 2.06-.94-2.06-.94L8.5 2.5l-.94 2.06-2.06.94zm10 10l.94 2.06.94-2.06 2.06-.94-2.06-.94-.94-2.06-.94 2.06-2.06.94z\"/><path d=\"M17.41 7.96l-1.37-1.37c-.4-.4-.92-.59-1.43-.59-.52 0-1.04.2-1.43.59L10.3 9.45l-7.72 7.72c-.78.78-.78 2.05 0 2.83L4 21.41c.39.39.9.59 1.41.59.51 0 1.02-.2 1.41-.59l7.78-7.78 2.81-2.81c.8-.78.8-2.07 0-2.86zM5.41 20L4 18.59l7.72-7.72 1.47 1.35L5.41 20z\"/>\n",
              "  </svg>\n",
              "      </button>\n",
              "      \n",
              "  <style>\n",
              "    .colab-df-container {\n",
              "      display:flex;\n",
              "      flex-wrap:wrap;\n",
              "      gap: 12px;\n",
              "    }\n",
              "\n",
              "    .colab-df-convert {\n",
              "      background-color: #E8F0FE;\n",
              "      border: none;\n",
              "      border-radius: 50%;\n",
              "      cursor: pointer;\n",
              "      display: none;\n",
              "      fill: #1967D2;\n",
              "      height: 32px;\n",
              "      padding: 0 0 0 0;\n",
              "      width: 32px;\n",
              "    }\n",
              "\n",
              "    .colab-df-convert:hover {\n",
              "      background-color: #E2EBFA;\n",
              "      box-shadow: 0px 1px 2px rgba(60, 64, 67, 0.3), 0px 1px 3px 1px rgba(60, 64, 67, 0.15);\n",
              "      fill: #174EA6;\n",
              "    }\n",
              "\n",
              "    [theme=dark] .colab-df-convert {\n",
              "      background-color: #3B4455;\n",
              "      fill: #D2E3FC;\n",
              "    }\n",
              "\n",
              "    [theme=dark] .colab-df-convert:hover {\n",
              "      background-color: #434B5C;\n",
              "      box-shadow: 0px 1px 3px 1px rgba(0, 0, 0, 0.15);\n",
              "      filter: drop-shadow(0px 1px 2px rgba(0, 0, 0, 0.3));\n",
              "      fill: #FFFFFF;\n",
              "    }\n",
              "  </style>\n",
              "\n",
              "      <script>\n",
              "        const buttonEl =\n",
              "          document.querySelector('#df-07a281a0-0892-467d-aa93-64385535c106 button.colab-df-convert');\n",
              "        buttonEl.style.display =\n",
              "          google.colab.kernel.accessAllowed ? 'block' : 'none';\n",
              "\n",
              "        async function convertToInteractive(key) {\n",
              "          const element = document.querySelector('#df-07a281a0-0892-467d-aa93-64385535c106');\n",
              "          const dataTable =\n",
              "            await google.colab.kernel.invokeFunction('convertToInteractive',\n",
              "                                                     [key], {});\n",
              "          if (!dataTable) return;\n",
              "\n",
              "          const docLinkHtml = 'Like what you see? Visit the ' +\n",
              "            '<a target=\"_blank\" href=https://colab.research.google.com/notebooks/data_table.ipynb>data table notebook</a>'\n",
              "            + ' to learn more about interactive tables.';\n",
              "          element.innerHTML = '';\n",
              "          dataTable['output_type'] = 'display_data';\n",
              "          await google.colab.output.renderOutput(dataTable, element);\n",
              "          const docLink = document.createElement('div');\n",
              "          docLink.innerHTML = docLinkHtml;\n",
              "          element.appendChild(docLink);\n",
              "        }\n",
              "      </script>\n",
              "    </div>\n",
              "  </div>\n",
              "  "
            ],
            "text/plain": [
              "            ID                                            English  \\\n",
              "0  ID_IFVTMXW8        F_all back to threading messages by subject   \n",
              "1  ID_SBXUPXE3  You will have to restart GIMP for the followin...   \n",
              "2  ID_ZOCZ3PXQ  The radio button whose group this widget belon...   \n",
              "3  ID_6AVBJ1YS           Print all subdirectories in a directory.   \n",
              "4  ID_FW4V44WK  Paste the contents of the clipboard as a new i...   \n",
              "\n",
              "                                         Kinyarwanda  \\\n",
              "0                 Inyuma Kuri Ubutumwa ku Ikivugwaho   \n",
              "1  Kuri Ongera utangire kugirango i Amahinduka Ku...   \n",
              "2                       Akabuto bya Itsinda iyi Kuri   \n",
              "3          Byose Ububiko bwungirije in a bushyinguro   \n",
              "4  i Ibigize Bya i Ububikokoporora Nka A Gishya I...   \n",
              "\n",
              "                                       Kinyarwanda22  \\\n",
              "0                 Inyuma Kuri Ubutumwa ku Ikivugwaho   \n",
              "1  Kuri Ongera utangire kugirango i Amahinduka Ku...   \n",
              "2                       Akabuto bya Itsinda iyi Kuri   \n",
              "3          Byose Ububiko bwungirije in a bushyinguro   \n",
              "4  i Ibigize Bya i Ububikokoporora Nka A Gishya I...   \n",
              "\n",
              "                        KinyarwandaWithNoPunctuation  \\\n",
              "0                 Inyuma Kuri Ubutumwa ku Ikivugwaho   \n",
              "1  Kuri Ongera utangire kugirango i Amahinduka Ku...   \n",
              "2                       Akabuto bya Itsinda iyi Kuri   \n",
              "3          Byose Ububiko bwungirije in a bushyinguro   \n",
              "4  i Ibigize Bya i Ububikokoporora Nka A Gishya I...   \n",
              "\n",
              "                                          cleanLinks  \n",
              "0                 Inyuma Kuri Ubutumwa ku Ikivugwaho  \n",
              "1  Kuri Ongera utangire kugirango i Amahinduka Ku...  \n",
              "2                       Akabuto bya Itsinda iyi Kuri  \n",
              "3          Byose Ububiko bwungirije in a bushyinguro  \n",
              "4  i Ibigize Bya i Ububikokoporora Nka A Gishya I...  "
            ]
          },
          "execution_count": 16,
          "metadata": {},
          "output_type": "execute_result"
        }
      ],
      "source": [
        "import re\n",
        "df['cleanLinks'] = df['Kinyarwanda'].apply(lambda x: re.split('https:\\/\\/.*', str(x))[0])\n",
        "df.head()\n"
      ]
    },
    {
      "cell_type": "code",
      "execution_count": null,
      "metadata": {
        "id": "hFSp_a-rtg-5"
      },
      "outputs": [],
      "source": [
        "from google.colab import drive\n",
        "drive.mount('/content/drive')"
      ]
    },
    {
      "cell_type": "code",
      "execution_count": null,
      "metadata": {
        "id": "G466nT3lbvk_"
      },
      "outputs": [],
      "source": [
        "a = 'denyse ni mwiza? cyane!!'\n"
      ]
    },
    {
      "cell_type": "code",
      "execution_count": null,
      "metadata": {
        "colab": {
          "base_uri": "https://localhost:8080/",
          "height": 36
        },
        "id": "7inYpHIvb91A",
        "outputId": "ebcc82f3-35ed-42d1-899b-0ecea2c98f8d"
      },
      "outputs": [
        {
          "data": {
            "application/vnd.google.colaboratory.intrinsic+json": {
              "type": "string"
            },
            "text/plain": [
              "'!\"#$%&\\'()*+,-./:;<=>?@[\\\\]^_`{|}~'"
            ]
          },
          "execution_count": 18,
          "metadata": {},
          "output_type": "execute_result"
        }
      ],
      "source": [
        "import string\n",
        "string.punctuation"
      ]
    },
    {
      "cell_type": "code",
      "execution_count": null,
      "metadata": {
        "id": "mrNd2fl-cXV0"
      },
      "outputs": [],
      "source": [
        "no=[]\n",
        "for words in a:\n",
        "  if words not in string.punctuation:\n",
        "    no.append(words)"
      ]
    },
    {
      "cell_type": "code",
      "execution_count": null,
      "metadata": {
        "id": "oImrjPfJcxrL"
      },
      "outputs": [],
      "source": [
        "na = ''.join(no)"
      ]
    },
    {
      "cell_type": "code",
      "execution_count": null,
      "metadata": {
        "colab": {
          "base_uri": "https://localhost:8080/",
          "height": 36
        },
        "id": "isYYHHyqdDMv",
        "outputId": "e0cb23e4-f98e-40d7-8e06-0bf954f47e93"
      },
      "outputs": [
        {
          "data": {
            "application/vnd.google.colaboratory.intrinsic+json": {
              "type": "string"
            },
            "text/plain": [
              "'denyse ni mwiza cyane'"
            ]
          },
          "execution_count": 23,
          "metadata": {},
          "output_type": "execute_result"
        }
      ],
      "source": [
        "na"
      ]
    },
    {
      "cell_type": "code",
      "execution_count": null,
      "metadata": {
        "colab": {
          "background_save": true
        },
        "id": "ev3q_RoqdH7V"
      },
      "outputs": [],
      "source": [
        "['syaak','deneye',]\n",
        "\n"
      ]
    },
    {
      "cell_type": "code",
      "source": [
        "# to remove punctuation and put it to small letter"
      ],
      "metadata": {
        "id": "LohFoT7HJwPk"
      },
      "execution_count": null,
      "outputs": []
    },
    {
      "cell_type": "code",
      "source": [
        "import pandas as pd\n",
        "import string\n",
        "import re\n",
        "dff = pd.read_csv(\"/content/drive/MyDrive/NLP-FELLOWSHIP/week1/Eng_Kin-Paralleldata (2).csv\")\n",
        "df = dff[['English','Kinyarwanda']]\n",
        "df_back = df\n",
        "df_back= df_back.applymap(lambda s:s.lower() if type(s) == str else s)\n",
        "df_back_p = df_back.applymap(lambda s: s.translate(str.maketrans('', '', string.punctuation)))\n",
        "df_back_p.head(5)"
      ],
      "metadata": {
        "colab": {
          "base_uri": "https://localhost:8080/",
          "height": 206
        },
        "id": "6e11ydQDImGK",
        "outputId": "9c65b9e0-4c74-4970-d944-08afcb288f80"
      },
      "execution_count": 5,
      "outputs": [
        {
          "output_type": "execute_result",
          "data": {
            "text/plain": [
              "                                             English  \\\n",
              "0         fall back to threading messages by subject   \n",
              "1  you will have to restart gimp for the followin...   \n",
              "2  the radio button whose group this widget belon...   \n",
              "3            print all subdirectories in a directory   \n",
              "4  paste the contents of the clipboard as a new i...   \n",
              "\n",
              "                                         Kinyarwanda  \n",
              "0                 inyuma kuri ubutumwa ku ikivugwaho  \n",
              "1  kuri ongera utangire kugirango i amahinduka ku...  \n",
              "2                       akabuto bya itsinda iyi kuri  \n",
              "3          byose ububiko bwungirije in a bushyinguro  \n",
              "4  i ibigize bya i ububikokoporora nka a gishya i...  "
            ],
            "text/html": [
              "\n",
              "  <div id=\"df-302f9f7f-ad4d-4f5c-b000-2a71e8c4d671\">\n",
              "    <div class=\"colab-df-container\">\n",
              "      <div>\n",
              "<style scoped>\n",
              "    .dataframe tbody tr th:only-of-type {\n",
              "        vertical-align: middle;\n",
              "    }\n",
              "\n",
              "    .dataframe tbody tr th {\n",
              "        vertical-align: top;\n",
              "    }\n",
              "\n",
              "    .dataframe thead th {\n",
              "        text-align: right;\n",
              "    }\n",
              "</style>\n",
              "<table border=\"1\" class=\"dataframe\">\n",
              "  <thead>\n",
              "    <tr style=\"text-align: right;\">\n",
              "      <th></th>\n",
              "      <th>English</th>\n",
              "      <th>Kinyarwanda</th>\n",
              "    </tr>\n",
              "  </thead>\n",
              "  <tbody>\n",
              "    <tr>\n",
              "      <th>0</th>\n",
              "      <td>fall back to threading messages by subject</td>\n",
              "      <td>inyuma kuri ubutumwa ku ikivugwaho</td>\n",
              "    </tr>\n",
              "    <tr>\n",
              "      <th>1</th>\n",
              "      <td>you will have to restart gimp for the followin...</td>\n",
              "      <td>kuri ongera utangire kugirango i amahinduka ku...</td>\n",
              "    </tr>\n",
              "    <tr>\n",
              "      <th>2</th>\n",
              "      <td>the radio button whose group this widget belon...</td>\n",
              "      <td>akabuto bya itsinda iyi kuri</td>\n",
              "    </tr>\n",
              "    <tr>\n",
              "      <th>3</th>\n",
              "      <td>print all subdirectories in a directory</td>\n",
              "      <td>byose ububiko bwungirije in a bushyinguro</td>\n",
              "    </tr>\n",
              "    <tr>\n",
              "      <th>4</th>\n",
              "      <td>paste the contents of the clipboard as a new i...</td>\n",
              "      <td>i ibigize bya i ububikokoporora nka a gishya i...</td>\n",
              "    </tr>\n",
              "  </tbody>\n",
              "</table>\n",
              "</div>\n",
              "      <button class=\"colab-df-convert\" onclick=\"convertToInteractive('df-302f9f7f-ad4d-4f5c-b000-2a71e8c4d671')\"\n",
              "              title=\"Convert this dataframe to an interactive table.\"\n",
              "              style=\"display:none;\">\n",
              "        \n",
              "  <svg xmlns=\"http://www.w3.org/2000/svg\" height=\"24px\"viewBox=\"0 0 24 24\"\n",
              "       width=\"24px\">\n",
              "    <path d=\"M0 0h24v24H0V0z\" fill=\"none\"/>\n",
              "    <path d=\"M18.56 5.44l.94 2.06.94-2.06 2.06-.94-2.06-.94-.94-2.06-.94 2.06-2.06.94zm-11 1L8.5 8.5l.94-2.06 2.06-.94-2.06-.94L8.5 2.5l-.94 2.06-2.06.94zm10 10l.94 2.06.94-2.06 2.06-.94-2.06-.94-.94-2.06-.94 2.06-2.06.94z\"/><path d=\"M17.41 7.96l-1.37-1.37c-.4-.4-.92-.59-1.43-.59-.52 0-1.04.2-1.43.59L10.3 9.45l-7.72 7.72c-.78.78-.78 2.05 0 2.83L4 21.41c.39.39.9.59 1.41.59.51 0 1.02-.2 1.41-.59l7.78-7.78 2.81-2.81c.8-.78.8-2.07 0-2.86zM5.41 20L4 18.59l7.72-7.72 1.47 1.35L5.41 20z\"/>\n",
              "  </svg>\n",
              "      </button>\n",
              "      \n",
              "  <style>\n",
              "    .colab-df-container {\n",
              "      display:flex;\n",
              "      flex-wrap:wrap;\n",
              "      gap: 12px;\n",
              "    }\n",
              "\n",
              "    .colab-df-convert {\n",
              "      background-color: #E8F0FE;\n",
              "      border: none;\n",
              "      border-radius: 50%;\n",
              "      cursor: pointer;\n",
              "      display: none;\n",
              "      fill: #1967D2;\n",
              "      height: 32px;\n",
              "      padding: 0 0 0 0;\n",
              "      width: 32px;\n",
              "    }\n",
              "\n",
              "    .colab-df-convert:hover {\n",
              "      background-color: #E2EBFA;\n",
              "      box-shadow: 0px 1px 2px rgba(60, 64, 67, 0.3), 0px 1px 3px 1px rgba(60, 64, 67, 0.15);\n",
              "      fill: #174EA6;\n",
              "    }\n",
              "\n",
              "    [theme=dark] .colab-df-convert {\n",
              "      background-color: #3B4455;\n",
              "      fill: #D2E3FC;\n",
              "    }\n",
              "\n",
              "    [theme=dark] .colab-df-convert:hover {\n",
              "      background-color: #434B5C;\n",
              "      box-shadow: 0px 1px 3px 1px rgba(0, 0, 0, 0.15);\n",
              "      filter: drop-shadow(0px 1px 2px rgba(0, 0, 0, 0.3));\n",
              "      fill: #FFFFFF;\n",
              "    }\n",
              "  </style>\n",
              "\n",
              "      <script>\n",
              "        const buttonEl =\n",
              "          document.querySelector('#df-302f9f7f-ad4d-4f5c-b000-2a71e8c4d671 button.colab-df-convert');\n",
              "        buttonEl.style.display =\n",
              "          google.colab.kernel.accessAllowed ? 'block' : 'none';\n",
              "\n",
              "        async function convertToInteractive(key) {\n",
              "          const element = document.querySelector('#df-302f9f7f-ad4d-4f5c-b000-2a71e8c4d671');\n",
              "          const dataTable =\n",
              "            await google.colab.kernel.invokeFunction('convertToInteractive',\n",
              "                                                     [key], {});\n",
              "          if (!dataTable) return;\n",
              "\n",
              "          const docLinkHtml = 'Like what you see? Visit the ' +\n",
              "            '<a target=\"_blank\" href=https://colab.research.google.com/notebooks/data_table.ipynb>data table notebook</a>'\n",
              "            + ' to learn more about interactive tables.';\n",
              "          element.innerHTML = '';\n",
              "          dataTable['output_type'] = 'display_data';\n",
              "          await google.colab.output.renderOutput(dataTable, element);\n",
              "          const docLink = document.createElement('div');\n",
              "          docLink.innerHTML = docLinkHtml;\n",
              "          element.appendChild(docLink);\n",
              "        }\n",
              "      </script>\n",
              "    </div>\n",
              "  </div>\n",
              "  "
            ]
          },
          "metadata": {},
          "execution_count": 5
        }
      ]
    }
  ],
  "metadata": {
    "colab": {
      "provenance": [],
      "collapsed_sections": [],
      "mount_file_id": "1FZZBOccgaF1n1X6X5NiMQbg5UaLHNmYn",
      "authorship_tag": "ABX9TyPadHkQ19dXXApeHLT+LAzb",
      "include_colab_link": true
    },
    "kernelspec": {
      "display_name": "Python 3",
      "name": "python3"
    },
    "language_info": {
      "name": "python"
    }
  },
  "nbformat": 4,
  "nbformat_minor": 0
}